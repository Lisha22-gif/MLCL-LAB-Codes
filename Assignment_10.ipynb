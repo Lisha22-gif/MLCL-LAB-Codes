{
  "cells": [
    {
      "cell_type": "code",
      "execution_count": null,
      "metadata": {
        "id": "-4Mr4WVqrb6C"
      },
      "outputs": [],
      "source": [
        "import cv2 as cv\n",
        "import numpy as np"
      ]
    },
    {
      "cell_type": "code",
      "execution_count": null,
      "metadata": {
        "id": "CvQLpL_yrb6D"
      },
      "outputs": [],
      "source": [
        "image=cv.imread(r\"C:\\Users\\chait\\Downloads\\tree.jpg\")\n",
        "# gray = cv.cvtColor(image, cv.COLOR_BGR2GRAY)"
      ]
    },
    {
      "cell_type": "code",
      "execution_count": null,
      "metadata": {
        "id": "vlfz5Dfirb6E",
        "outputId": "f25e822d-5fc0-4393-cd9b-9b6e8058842a"
      },
      "outputs": [
        {
          "data": {
            "text/plain": [
              "-1"
            ]
          },
          "execution_count": 3,
          "metadata": {},
          "output_type": "execute_result"
        }
      ],
      "source": [
        "cv.imshow(\"Image\",image)\n",
        "cv.waitKey(0)"
      ]
    },
    {
      "cell_type": "code",
      "execution_count": null,
      "metadata": {
        "id": "Q35HeUbdrb6F",
        "outputId": "c41463e7-b93a-4935-f2cf-9275119ce5fe"
      },
      "outputs": [
        {
          "data": {
            "text/plain": [
              "(480, 771, 3)"
            ]
          },
          "execution_count": 4,
          "metadata": {},
          "output_type": "execute_result"
        }
      ],
      "source": [
        "image.shape"
      ]
    },
    {
      "cell_type": "code",
      "execution_count": null,
      "metadata": {
        "id": "FWHjAM84rb6F"
      },
      "outputs": [],
      "source": [
        "corner=image[0:100,0:100]"
      ]
    },
    {
      "cell_type": "code",
      "execution_count": null,
      "metadata": {
        "id": "jqnWloNJrb6G",
        "outputId": "df4299f4-fb5f-4406-adb2-4085f94389af"
      },
      "outputs": [
        {
          "data": {
            "text/plain": [
              "-1"
            ]
          },
          "execution_count": 6,
          "metadata": {},
          "output_type": "execute_result"
        }
      ],
      "source": [
        "cv.imshow(\"Corner\", corner)\n",
        "cv.waitKey(0)"
      ]
    },
    {
      "cell_type": "code",
      "execution_count": null,
      "metadata": {
        "id": "gsYeRblnrb6G"
      },
      "outputs": [],
      "source": [
        "canvas = np.zeros((300, 300, 3), dtype = \"uint8\")\n",
        "#RGB(255,255,255)\n",
        "green = (0, 255, 0)\n",
        "cv.line(canvas, (0, 0), (300, 300), green,4)\n",
        "cv.imshow(\"Canvas\", canvas)\n"
      ]
    },
    {
      "cell_type": "code",
      "execution_count": null,
      "metadata": {
        "id": "w4FkVrZNrb6H",
        "outputId": "4cdb8dac-6b9f-4359-f750-9722d204b1c4"
      },
      "outputs": [
        {
          "data": {
            "text/plain": [
              "-1"
            ]
          },
          "execution_count": 8,
          "metadata": {},
          "output_type": "execute_result"
        }
      ],
      "source": [
        "red = (0, 0, 255)\n",
        "cv.line(canvas, (300, 0), (0, 300), red, 3)\n",
        "cv.imshow(\"Canvas\", canvas)\n",
        "cv.waitKey(0)"
      ]
    },
    {
      "cell_type": "markdown",
      "metadata": {
        "id": "dLx31plgrb6H"
      },
      "source": [
        "# Image Processing"
      ]
    },
    {
      "cell_type": "code",
      "execution_count": null,
      "metadata": {
        "id": "V3JiEBY4rb6J",
        "outputId": "247f66fb-4423-4569-c84a-596defb1e956"
      },
      "outputs": [
        {
          "name": "stdout",
          "output_type": "stream",
          "text": [
            "480\n",
            "771\n"
          ]
        },
        {
          "data": {
            "text/plain": [
              "-1"
            ]
          },
          "execution_count": 9,
          "metadata": {},
          "output_type": "execute_result"
        }
      ],
      "source": [
        "# Image Translation\n",
        "#The first row of the matrix is [1, 0, tx], where tx is the number of pixels we will shift the image left or right. \n",
        "#Negative values of tx will shift the image to the left and positive values will shift the image to the right\n",
        "M = np.float32([[1, 0, 25], [0, 1, 50]])\n",
        "print(image.shape[0])\n",
        "print(image.shape[1])\n",
        "shifted = cv.warpAffine(image, M, (image.shape[1], image.shape[0]))\n",
        "cv.imshow(\"Shifted Down and Right\", shifted)\n",
        "cv.waitKey(0)"
      ]
    },
    {
      "cell_type": "code",
      "execution_count": null,
      "metadata": {
        "id": "K4kVDEnLrb6K",
        "outputId": "d5f5bfe0-e418-4576-c3d5-9698cd698c90"
      },
      "outputs": [
        {
          "data": {
            "text/plain": [
              "-1"
            ]
          },
          "execution_count": 10,
          "metadata": {},
          "output_type": "execute_result"
        }
      ],
      "source": [
        "# Rotation\n",
        "cv.imshow(\"Original\", image)\n",
        "(h, w) = image.shape[:2]\n",
        "#h=image.shape[0]\n",
        "#w=image.shape[1]\n",
        "\n",
        "center = (w // 2, h // 2)\n",
        "M = cv.getRotationMatrix2D(center, 45, 1.0)\n",
        "rotated = cv.warpAffine(image, M, (w, h))\n",
        "cv.imshow(\"Rotated by 45 Degrees\", rotated)\n",
        "cv.waitKey(0)"
      ]
    },
    {
      "cell_type": "code",
      "execution_count": null,
      "metadata": {
        "id": "IsvEUKhTrb6L",
        "outputId": "5b8481c8-1136-4215-b7df-975a02258b65"
      },
      "outputs": [
        {
          "name": "stdout",
          "output_type": "stream",
          "text": [
            "(480, 771, 3)\n",
            "(93, 150, 3)\n"
          ]
        },
        {
          "data": {
            "text/plain": [
              "-1"
            ]
          },
          "execution_count": 11,
          "metadata": {},
          "output_type": "execute_result"
        }
      ],
      "source": [
        "\n",
        "cv.imshow(\"Original\", image)\n",
        "print(image.shape)\n",
        "r = 150.0 / image.shape[1]\n",
        "dim = (150, int(image.shape[0] * r))\n",
        "resized = cv.resize(image, dim, interpolation = cv.INTER_AREA)\n",
        "print(resized.shape)\n",
        "cv.imshow(\"Resized (Width)\", resized)\n",
        "cv.waitKey(0)"
      ]
    },
    {
      "cell_type": "code",
      "execution_count": null,
      "metadata": {
        "id": "yzukhtHarb6L",
        "outputId": "a9ec3eea-26dc-4597-8765-928d5d817fce"
      },
      "outputs": [
        {
          "data": {
            "text/plain": [
              "-1"
            ]
          },
          "execution_count": 12,
          "metadata": {},
          "output_type": "execute_result"
        }
      ],
      "source": [
        "\n",
        "cv.imshow(\"Original\", image)\n",
        "flipped = cv.flip(image, 0)\n",
        "cv.imshow(\"Flipped Horizontally\", flipped)\n",
        "cv.waitKey(0)"
      ]
    },
    {
      "cell_type": "markdown",
      "metadata": {
        "id": "5uYKB-Z4rb6M"
      },
      "source": [
        ""
      ]
    },
    {
      "cell_type": "code",
      "execution_count": null,
      "metadata": {
        "id": "SziCQdMzrb6N"
      },
      "outputs": [],
      "source": [
        ""
      ]
    }
  ],
  "metadata": {
    "kernelspec": {
      "display_name": "Python 3 (ipykernel)",
      "language": "python",
      "name": "python3"
    },
    "language_info": {
      "codemirror_mode": {
        "name": "ipython",
        "version": 3
      },
      "file_extension": ".py",
      "mimetype": "text/x-python",
      "name": "python",
      "nbconvert_exporter": "python",
      "pygments_lexer": "ipython3",
      "version": "3.9.7"
    },
    "colab": {
      "name": "Assignment 10.ipynb",
      "provenance": []
    }
  },
  "nbformat": 4,
  "nbformat_minor": 0
}